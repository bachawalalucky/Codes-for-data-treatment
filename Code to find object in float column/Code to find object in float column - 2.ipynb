{
 "cells": [
  {
   "cell_type": "markdown",
   "metadata": {},
   "source": [
    "# Code to find object in float column"
   ]
  },
  {
   "cell_type": "markdown",
   "metadata": {},
   "source": [
    "## Description\n",
    "- Some times we will be facing some issues like values of column looks like float but actually its an object when we check info(). \n",
    "- Here is the solution for the problem with clear explanation, check it out.\n"
   ]
  },
  {
   "cell_type": "markdown",
   "metadata": {},
   "source": [
    "## #Code\n",
    "`pandas.to_numeric(arg, errors='raise', downcast=None)`"
   ]
  },
  {
   "cell_type": "markdown",
   "metadata": {},
   "source": [
    "## Parameters \n",
    "\n",
    "**arg** \n",
    ">Argument to be converted.(argscalar, list, tuple, 1-d array, or Series)\n",
    "\n",
    "**errors** {‘ignore’, ‘raise’, ‘coerce’}, default ‘raise’\n",
    "> If ‘raise’, then invalid parsing will raise an exception.\n",
    "\n",
    "> If ‘coerce’, then invalid parsing will be set as NaN.\n",
    "\n",
    "> If ‘ignore’, then invalid parsing will return the input.\n",
    "\n",
    "\n",
    "**downcast** {‘integer’, ‘signed’, ‘unsigned’, ‘float’}, default None\n",
    "If not None, and if the data has been successfully cast to a numerical dtype (or if the data was numeric to begin with), downcast that resulting data to the smallest numerical dtype possible according to the following rules:\n",
    "\n",
    ">‘integer’ or ‘signed’: smallest signed int dtype (min.: np.int8)\n",
    "\n",
    ">‘unsigned’: smallest unsigned int dtype (min.: np.uint8)\n",
    "\n",
    ">‘float’: smallest float dtype (min.: np.float32)"
   ]
  },
  {
   "cell_type": "markdown",
   "metadata": {},
   "source": [
    "### Time for the actual code\n",
    "- Code used to convert strings in float column"
   ]
  },
  {
   "cell_type": "code",
   "execution_count": null,
   "metadata": {},
   "outputs": [],
   "source": [
    "df['column_name'] = pd.to_numeric(df['column_name'], errors='coerce') # has some string values, force them to NaN"
   ]
  },
  {
   "cell_type": "code",
   "execution_count": null,
   "metadata": {},
   "outputs": [],
   "source": [
    "#Now check info() to know dtype of column which you wanna convert\n",
    "df.info()"
   ]
  },
  {
   "cell_type": "code",
   "execution_count": null,
   "metadata": {},
   "outputs": [],
   "source": [
    "df[df['column_name'].isna()] # code to find the forced NaN values "
   ]
  }
 ],
 "metadata": {
  "kernelspec": {
   "display_name": "Python 3",
   "language": "python",
   "name": "python3"
  },
  "language_info": {
   "codemirror_mode": {
    "name": "ipython",
    "version": 3
   },
   "file_extension": ".py",
   "mimetype": "text/x-python",
   "name": "python",
   "nbconvert_exporter": "python",
   "pygments_lexer": "ipython3",
   "version": "3.8.5"
  }
 },
 "nbformat": 4,
 "nbformat_minor": 4
}
